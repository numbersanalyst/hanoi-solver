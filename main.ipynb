{
 "cells": [
  {
   "cell_type": "code",
   "execution_count": 3,
   "metadata": {},
   "outputs": [],
   "source": [
    "def move(f, t):\n",
    "    print(f\"Moving disk from {f} to {t}!\")"
   ]
  },
  {
   "cell_type": "code",
   "execution_count": 4,
   "metadata": {},
   "outputs": [
    {
     "name": "stdout",
     "output_type": "stream",
     "text": [
      "Moving disk from A to C!\n"
     ]
    }
   ],
   "source": [
    "move(\"A\",\"C\")"
   ]
  },
  {
   "cell_type": "code",
   "execution_count": 5,
   "metadata": {},
   "outputs": [],
   "source": [
    "def moveVia(f, v, t):\n",
    "    move(f,v)\n",
    "    move(v,t)"
   ]
  },
  {
   "cell_type": "code",
   "execution_count": 6,
   "metadata": {},
   "outputs": [
    {
     "name": "stdout",
     "output_type": "stream",
     "text": [
      "Moving disk from A to B!\n",
      "Moving disk from B to C!\n"
     ]
    }
   ],
   "source": [
    "moveVia(\"A\",\"B\",\"C\")"
   ]
  },
  {
   "cell_type": "code",
   "execution_count": 7,
   "metadata": {},
   "outputs": [],
   "source": [
    "def solve(n, f, v, t):\n",
    "    if n == 0:\n",
    "        pass\n",
    "    else:\n",
    "        solve(n-1, f, t, v)\n",
    "        move(f,t)\n",
    "        solve(n-1, v, f, t)\n"
   ]
  },
  {
   "cell_type": "code",
   "execution_count": 10,
   "metadata": {},
   "outputs": [
    {
     "name": "stdout",
     "output_type": "stream",
     "text": [
      "Moving disk from A to B!\n",
      "Moving disk from A to C!\n",
      "Moving disk from B to C!\n",
      "Moving disk from A to B!\n",
      "Moving disk from C to A!\n",
      "Moving disk from C to B!\n",
      "Moving disk from A to B!\n",
      "Moving disk from A to C!\n",
      "Moving disk from B to C!\n",
      "Moving disk from B to A!\n",
      "Moving disk from C to A!\n",
      "Moving disk from B to C!\n",
      "Moving disk from A to B!\n",
      "Moving disk from A to C!\n",
      "Moving disk from B to C!\n"
     ]
    }
   ],
   "source": [
    "solve(4, \"A\", \"B\", \"C\")"
   ]
  }
 ],
 "metadata": {
  "kernelspec": {
   "display_name": "Python 3",
   "language": "python",
   "name": "python3"
  },
  "language_info": {
   "codemirror_mode": {
    "name": "ipython",
    "version": 3
   },
   "file_extension": ".py",
   "mimetype": "text/x-python",
   "name": "python",
   "nbconvert_exporter": "python",
   "pygments_lexer": "ipython3",
   "version": "3.12.1"
  }
 },
 "nbformat": 4,
 "nbformat_minor": 2
}
